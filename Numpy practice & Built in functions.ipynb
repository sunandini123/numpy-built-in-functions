{
 "cells": [
  {
   "cell_type": "code",
   "execution_count": 31,
   "id": "844e40ed-feee-452e-9fde-21f10cb86ab9",
   "metadata": {},
   "outputs": [],
   "source": [
    "import numpy as np"
   ]
  },
  {
   "cell_type": "code",
   "execution_count": 11,
   "id": "05492db2-ede2-4c5c-9b44-321786370ae2",
   "metadata": {},
   "outputs": [
    {
     "name": "stdout",
     "output_type": "stream",
     "text": [
      "[1. 1. 1.]\n"
     ]
    }
   ],
   "source": [
    "a= np.ones(3)\n",
    "print(a)"
   ]
  },
  {
   "cell_type": "code",
   "execution_count": 13,
   "id": "6bbe8e47-ded3-4436-a362-ba8361825f36",
   "metadata": {},
   "outputs": [
    {
     "name": "stdout",
     "output_type": "stream",
     "text": [
      "[0. 0. 0.]\n"
     ]
    }
   ],
   "source": [
    "b=np.zeros(3)\n",
    "print(b)"
   ]
  },
  {
   "cell_type": "code",
   "execution_count": 17,
   "id": "2afc81da-5c1a-4fc8-a510-8077beb7e423",
   "metadata": {},
   "outputs": [
    {
     "name": "stdout",
     "output_type": "stream",
     "text": [
      "[9 9 9 9]\n",
      "[[0.5 0.5 0.5]\n",
      " [0.5 0.5 0.5]]\n"
     ]
    }
   ],
   "source": [
    "# \"full\" literally means: “fill the array completely with the value you give.”\n",
    "# numpy signature: np.full(shape, fill_value, dtype=None, order='C')\n",
    "\n",
    "import numpy as np\n",
    "\n",
    "# 1D array of length 4, all elements are 9\n",
    "a = np.full(4, 9)\n",
    "print(a)  # Output: [9 9 9 9]\n",
    "\n",
    "# 2D array of shape (2, 3), all elements are 0.5\n",
    "b = np.full((2, 3), 0.5)\n",
    "print(b)"
   ]
  },
  {
   "cell_type": "code",
   "execution_count": 19,
   "id": "40581826-ae7f-4dfe-8340-d591fb5aa389",
   "metadata": {},
   "outputs": [
    {
     "data": {
      "text/plain": [
       "array([2])"
      ]
     },
     "execution_count": 19,
     "metadata": {},
     "output_type": "execute_result"
    }
   ],
   "source": [
    "np.arange(2,3)"
   ]
  },
  {
   "cell_type": "code",
   "execution_count": 37,
   "id": "6ec2389b-7777-4e94-9a6b-3ed53202d63f",
   "metadata": {},
   "outputs": [
    {
     "data": {
      "text/plain": [
       "290"
      ]
     },
     "execution_count": 37,
     "metadata": {},
     "output_type": "execute_result"
    }
   ],
   "source": [
    "# np.dot() is used in NumPy to multiply: Two numbers, Two vectors, A matrix and a vector, Two matrices\n",
    "# 10*4 +50*5 = 290\n",
    "\n",
    "\n",
    "import numpy as np \n",
    "\n",
    "a=np.array([10,50])\n",
    "b=np.array([4,5])\n",
    "\n",
    "np.dot(a,b)"
   ]
  },
  {
   "cell_type": "code",
   "execution_count": 43,
   "id": "b4f09912-c6d1-4f3e-889e-5f08bbb65835",
   "metadata": {},
   "outputs": [
    {
     "name": "stdout",
     "output_type": "stream",
     "text": [
      "[       1       16      243    78125 16777216]\n"
     ]
    }
   ],
   "source": [
    "# power function\n",
    "\n",
    "import numpy as np\n",
    "\n",
    "array1 = np.array([1, 2, 3, 5, 8])\n",
    "array2 = np.array([3, 4, 5, 7, 8])\n",
    "\n",
    "result_power = np.power(array1, array2)\n",
    "print(result_power)"
   ]
  },
  {
   "cell_type": "code",
   "execution_count": 45,
   "id": "cbff5d4f-49f3-44af-9d66-7d976f73fe1d",
   "metadata": {},
   "outputs": [
    {
     "data": {
      "text/plain": [
       "400.0"
      ]
     },
     "execution_count": 45,
     "metadata": {},
     "output_type": "execute_result"
    }
   ],
   "source": [
    "np.var(a,axis=None,dtype=None)"
   ]
  },
  {
   "cell_type": "code",
   "execution_count": 53,
   "id": "f59610e1-321f-4a6a-995e-0fbb36a59c3d",
   "metadata": {},
   "outputs": [
    {
     "name": "stdout",
     "output_type": "stream",
     "text": [
      "8\n"
     ]
    }
   ],
   "source": [
    "import numpy as np\n",
    "\n",
    "numbers = [1, 5, 3, 8, 2]\n",
    "print(np.max(numbers)) "
   ]
  },
  {
   "cell_type": "code",
   "execution_count": 63,
   "id": "f12f5d2c-09e8-45fb-bf80-4aa7ab665a29",
   "metadata": {},
   "outputs": [],
   "source": [
    "num=[1,2,3,4,5]\n",
    "\n",
    "numpy_array=np.array(num)"
   ]
  },
  {
   "cell_type": "code",
   "execution_count": 69,
   "id": "c488c220-95fd-4ee3-954c-40e25a16e1b5",
   "metadata": {},
   "outputs": [],
   "source": [
    "array1 = np.array([1, 2, 3, 5, 8])\n",
    "array2 = np.array([3, 4, 5, 7, 8])\n",
    "\n",
    "Fin=np.vstack((array1,array2))"
   ]
  },
  {
   "cell_type": "code",
   "execution_count": 67,
   "id": "c5aa9ec3-923a-4b6b-81b1-35136fd175dd",
   "metadata": {},
   "outputs": [
    {
     "name": "stdout",
     "output_type": "stream",
     "text": [
      "2.0\n"
     ]
    }
   ],
   "source": [
    "import pandas as pd\n",
    "\n",
    "df = pd.DataFrame({'A': [1, 2, 3]})\n",
    "print(df['A'].mean())"
   ]
  },
  {
   "cell_type": "code",
   "execution_count": 75,
   "id": "8d5b6407-dd80-4351-a80e-7f5033715578",
   "metadata": {},
   "outputs": [
    {
     "name": "stdout",
     "output_type": "stream",
     "text": [
      "With axis 0:\n",
      " [[1 2]\n",
      " [3 4]\n",
      " [5 6]]\n",
      "With axis 1:\n",
      " [[1 2 5]\n",
      " [3 4 6]]\n"
     ]
    }
   ],
   "source": [
    "import numpy as np\n",
    "\n",
    "a=np.array([[1,2],[3,4]])\n",
    "b=np.array([[5,6]])\n",
    "\n",
    "c=np.concatenate((a,b),axis=0)\n",
    "print(\"With axis 0:\\n\",c)\n",
    "\n",
    "d=np.concatenate((a,b.T),axis=1)\n",
    "print(\"With axis 1:\\n\",d)"
   ]
  },
  {
   "cell_type": "code",
   "execution_count": 81,
   "id": "7f01e2f7-9f9f-4dc1-ac0e-b587dd528073",
   "metadata": {},
   "outputs": [
    {
     "name": "stdout",
     "output_type": "stream",
     "text": [
      "After vstack:\n",
      " [[1 2 3]\n",
      " [4 5 6]]\n",
      "After hstack:\n",
      " [1 2 3 4 5 6]\n"
     ]
    }
   ],
   "source": [
    "# vstack is used to define elements vertically.\n",
    "#hstack for horizantally arranging elements.\n",
    "\n",
    "\n",
    "import numpy as np\n",
    "a=np.array([1,2,3])\n",
    "b=np.array([4,5,6])\n",
    "\n",
    "c=np.vstack((a,b))\n",
    "\n",
    "print(\"After vstack:\\n\",c)\n",
    "\n",
    "d=np.hstack((a,b))\n",
    "\n",
    "print(\"After hstack:\\n\",d)"
   ]
  },
  {
   "cell_type": "code",
   "execution_count": 120,
   "id": "51dbabb2-2710-4bc2-b79c-abd90287ebf0",
   "metadata": {},
   "outputs": [
    {
     "name": "stdout",
     "output_type": "stream",
     "text": [
      "after stacked:\n",
      " [[ 1  2  3]\n",
      " [ 7  8  9]\n",
      " [ 4  5  6]\n",
      " [10 11 12]]\n",
      "[[ 3  2  1]\n",
      " [ 9  8  7]\n",
      " [ 6  5  4]\n",
      " [12 11 10]]\n",
      "[[10 11 12]\n",
      " [ 4  5  6]\n",
      " [ 7  8  9]\n",
      " [ 1  2  3]]\n"
     ]
    }
   ],
   "source": [
    "# fliplr function is used to reverese the array left to righ \n",
    "\n",
    "import numpy as np\n",
    "a=np.array([[1,2,3],[7,8,9]])\n",
    "b=np.array([[4,5,6],[10,11,12]])\n",
    "\n",
    "stacked=np.vstack((a,b))\n",
    "\n",
    "print(\"after stacked:\\n\",stacked)\n",
    "\n",
    "c=np.fliplr(stacked)\n",
    "\n",
    "print(c)\n",
    "\n",
    "d=np.flipud(stacked)\n",
    "\n",
    "print(d)"
   ]
  },
  {
   "cell_type": "code",
   "execution_count": 124,
   "id": "1226ec4a-4aa9-41f7-bee7-aca86e56f375",
   "metadata": {},
   "outputs": [
    {
     "name": "stdout",
     "output_type": "stream",
     "text": [
      "[2.5 3.5 4.5 5.5]\n"
     ]
    }
   ],
   "source": [
    "# np.convolve is used to compute the moving average \n",
    "\n",
    "import numpy as np\n",
    "\n",
    "data = np.array([1, 2, 3, 4, 5, 6, 7])\n",
    "window_size = 4\n",
    "\n",
    "weights = np.ones(window_size) / window_size\n",
    "moving_avg = np.convolve(data, weights, mode='valid')\n",
    "\n",
    "print(moving_avg)\n",
    "\n",
    "\n",
    "# What is a Moving Average? It smooths data by averaging over a sliding window, For example:\n",
    "#First 3 numbers: (1+2+3)/3 = 2\n",
    "\n",
    "# Next 3: (2+3+4)/3 = 3\n",
    "\n",
    "# And so on…"
   ]
  },
  {
   "cell_type": "code",
   "execution_count": 142,
   "id": "d4aa62e5-50f9-4521-9b50-eb6686ec2da4",
   "metadata": {},
   "outputs": [
    {
     "name": "stdout",
     "output_type": "stream",
     "text": [
      "[array([1, 2, 3]), array([4, 5]), array([6, 7])]\n",
      "[array([0, 1, 2, 3]), array([4, 5, 6, 7])]\n",
      "[array([0]), array([1]), array([2]), array([3]), array([4]), array([5]), array([6]), array([7])]\n"
     ]
    }
   ],
   "source": [
    "# np.array_split to split the array into as our wish size \n",
    "\n",
    "data = np.array([1, 2, 3, 4, 5, 6, 7])\n",
    "\n",
    "arr1=np.array_split(data,3)\n",
    "\n",
    "print(arr1)\n",
    "\n",
    "\n",
    "ram=np.arange(8)   # takes values upto 7\n",
    "\n",
    "arr2=np.array_split(ram,2)     # splits the data into 2 arrays \n",
    "\n",
    "arr3=np.array_split(ram,8)       # splits the date into 8 arrays \n",
    "\n",
    "print(arr2)\n",
    "print(arr3)"
   ]
  },
  {
   "cell_type": "code",
   "execution_count": 165,
   "id": "99a8dcad-c8f3-4284-ba29-fdc15f08d6c9",
   "metadata": {},
   "outputs": [
    {
     "name": "stdout",
     "output_type": "stream",
     "text": [
      "[[1 6]\n",
      " [2 7]\n",
      " [3 8]]\n",
      "[[1 6]\n",
      " [2 7]\n",
      " [3 8]]\n"
     ]
    }
   ],
   "source": [
    "# np.swapaxes(a,0,1)- swaps the rows into columns and cloumns into rows \n",
    "\n",
    "# 0,1 converts the 2 rows, 3columns into 3 rows, 2 columns\n",
    "\n",
    "\n",
    "# np.swapaxes(arr, axis1, axis2) returns a view, not a copy.\n",
    "\n",
    "# It's different from np.transpose() which can swap all axes at once.\n",
    "\n",
    "\n",
    "import numpy as np\n",
    "\n",
    "data = np.array([[1, 2, 3],     # Each row is a list\n",
    "                 [6, 7, 8]])    # All rows are inside another list\n",
    "\n",
    "arr1 = np.swapaxes(data, 0, 1)  # Swap rows and columns\n",
    "print(arr1)\n",
    "\n",
    "arr2 = np.transpose(data)       # Transpose (same as swapaxes for 2D)\n",
    "print(arr2)\n"
   ]
  },
  {
   "cell_type": "code",
   "execution_count": 171,
   "id": "146eec6d-0e0e-4431-8ceb-4d4ba9d12c02",
   "metadata": {},
   "outputs": [
    {
     "name": "stdout",
     "output_type": "stream",
     "text": [
      "(9,)\n",
      " transformed shape: (3, 3)\n",
      "[[1 2 3]\n",
      " [4 5 6]\n",
      " [7 8 9]]\n"
     ]
    }
   ],
   "source": [
    "# changing the dimensions of an numpy array \n",
    "\n",
    "# if data=np.array([1,2,3,4,5,6,7,8]) it cant be converted into shape of (3,3) as only 8 elements \n",
    "\n",
    "data=np.array([1,2,3,4,5,6,7,8,9])\n",
    "\n",
    "print(data.shape)\n",
    "\n",
    "data.shape=(3,3)\n",
    "\n",
    "print(\" transformed shape:\",data.shape)\n",
    "\n",
    "print(data)\n"
   ]
  },
  {
   "cell_type": "code",
   "execution_count": 177,
   "id": "e942b43b-d757-413e-be0b-7efebc1ea5fc",
   "metadata": {},
   "outputs": [
    {
     "name": "stdout",
     "output_type": "stream",
     "text": [
      "[[0 0 0 0]\n",
      " [0 1 2 0]\n",
      " [0 3 4 0]\n",
      " [0 0 0 0]]\n"
     ]
    }
   ],
   "source": [
    "# padded function can be used to border an array  with zero's \n",
    "\n",
    "# pad width is no of layers & constant values means means value to be bordered with.\n",
    "\n",
    "import numpy as np\n",
    "\n",
    "arr = np.array([[1, 2],\n",
    "                [3, 4]])\n",
    "\n",
    "# Pad with 1 layer of zeros around the array\n",
    "\n",
    "padded = np.pad(arr, pad_width=1, mode='constant', constant_values=0)\n",
    "\n",
    "print(padded)"
   ]
  },
  {
   "cell_type": "code",
   "execution_count": 179,
   "id": "b17f0ed1-6361-4cb1-845f-3bd976a2f3ae",
   "metadata": {},
   "outputs": [
    {
     "name": "stdout",
     "output_type": "stream",
     "text": [
      "[[9 9 9 9 9 9]\n",
      " [9 9 9 9 9 9]\n",
      " [9 9 1 2 9 9]\n",
      " [9 9 3 4 9 9]\n",
      " [9 9 9 9 9 9]\n",
      " [9 9 9 9 9 9]]\n"
     ]
    }
   ],
   "source": [
    "import numpy as np\n",
    "\n",
    "arr = np.array([[1, 2],\n",
    "                [3, 4]])\n",
    "\n",
    "# Pad with 1 layer of zeros around the array\n",
    "padded = np.pad(arr, pad_width=2, mode='constant', constant_values=9)\n",
    "\n",
    "print(padded)"
   ]
  },
  {
   "cell_type": "code",
   "execution_count": 181,
   "id": "23246aa5-5fbe-4a67-84b6-50600fc397a4",
   "metadata": {},
   "outputs": [
    {
     "name": "stdout",
     "output_type": "stream",
     "text": [
      "[[5. 5. 5. 5. 5. 5. 5. 5.]\n",
      " [5. 5. 5. 5. 5. 5. 5. 5.]\n",
      " [5. 5. 1. 1. 1. 1. 5. 5.]\n",
      " [5. 5. 1. 1. 1. 1. 5. 5.]\n",
      " [5. 5. 1. 1. 1. 1. 5. 5.]\n",
      " [5. 5. 1. 1. 1. 1. 5. 5.]\n",
      " [5. 5. 5. 5. 5. 5. 5. 5.]\n",
      " [5. 5. 5. 5. 5. 5. 5. 5.]]\n"
     ]
    }
   ],
   "source": [
    "#no.ones means array with only ones \n",
    "\n",
    "data=np.ones((4,4))\n",
    "\n",
    "arr1=np.pad(data,pad_width=2,mode='constant', constant_values=5)\n",
    "\n",
    "print(arr1)"
   ]
  },
  {
   "cell_type": "code",
   "execution_count": 183,
   "id": "1b70fbd5-f70a-4301-bf47-d5d7c349bb5f",
   "metadata": {},
   "outputs": [
    {
     "name": "stdout",
     "output_type": "stream",
     "text": [
      "[10 11 12 13 14 15 16 17 18 19 20 21 22 23 24 25 26 27 28 29 30 31 32 33\n",
      " 34 35 36 37 38 39 40 41 42 43 44 45 46 47 48 49 50 51 52 53 54 55 56 57\n",
      " 58 59]\n"
     ]
    }
   ],
   "source": [
    "data=np.arange(10,60)\n",
    "\n",
    "print(data)"
   ]
  },
  {
   "cell_type": "code",
   "execution_count": 189,
   "id": "85619f02-e2b5-4955-8de9-27b36940b12a",
   "metadata": {},
   "outputs": [
    {
     "name": "stdout",
     "output_type": "stream",
     "text": [
      "['IIIII' 'LoveLoveLoveLoveLove' 'multiplymultiplymultiplymultiplymultiply']\n",
      "['I' 'L o v e' 'm u l t i p l y']\n"
     ]
    }
   ],
   "source": [
    "# to repeat the elements use np.char.multiply(arr,times like 5 or 6)\n",
    "# np.char.join(' ',data) is used to keep spaces between the array data \n",
    "\n",
    "data=np.array(['I','Love','multiply'],dtype=str)\n",
    "\n",
    "arr1=np.char.multiply(data,5)\n",
    "\n",
    "arr2=np.char.join(' ',data)\n",
    "\n",
    "\n",
    "print(arr1)\n",
    "\n",
    "print(arr2)"
   ]
  },
  {
   "cell_type": "code",
   "execution_count": 193,
   "id": "6e53e357-af04-471f-bb0d-1633b2f19f72",
   "metadata": {},
   "outputs": [
    {
     "name": "stdout",
     "output_type": "stream",
     "text": [
      "['I' 'LOVE' 'MULTIPLY']\n",
      "['i' 'love' 'multiply']\n",
      "['I' 'Love' 'Multiply']\n",
      "['I' 'Love' 'Multiply']\n",
      "['i' 'lOVE' 'MULTIPLY']\n"
     ]
    }
   ],
   "source": [
    "data=np.array(['I','Love','multiply'],dtype=str)\n",
    "\n",
    "arr1=np.char.upper(data)\n",
    "\n",
    "arr2=np.char.lower(data)\n",
    "\n",
    "arr3=np.char.capitalize(data)\n",
    "\n",
    "arr4=np.char.title(data)\n",
    "\n",
    "arr5=np.char.swapcase(data)\n",
    "\n",
    "print(arr1)\n",
    "print(arr2)\n",
    "print(arr3)\n",
    "print(arr4)\n",
    "print(arr5)"
   ]
  },
  {
   "cell_type": "code",
   "execution_count": 195,
   "id": "979f6d10-ed25-431b-8255-00719d2fd37b",
   "metadata": {},
   "outputs": [
    {
     "name": "stdout",
     "output_type": "stream",
     "text": [
      "[ 1  6 11 16 21 26 31 36 41 46]\n"
     ]
    }
   ],
   "source": [
    "# np.arange creates an array of elemts with same space \n",
    "\n",
    "data=np.arange(1,50,5)\n",
    "\n",
    "print(data)"
   ]
  },
  {
   "cell_type": "code",
   "execution_count": 2,
   "id": "218cb812-4ccd-4e0a-9fe8-dfc3bbfded10",
   "metadata": {},
   "outputs": [],
   "source": [
    "import numpy as np"
   ]
  },
  {
   "cell_type": "code",
   "execution_count": 6,
   "id": "1fa18c9e-8b82-467b-9422-a55c3b1c47b5",
   "metadata": {},
   "outputs": [
    {
     "name": "stdout",
     "output_type": "stream",
     "text": [
      "Array a: [1 2 3]\n"
     ]
    }
   ],
   "source": [
    "#create an array\n",
    "\n",
    "a=np.array([1,2,3,])\n",
    "\n",
    "print(\"Array a:\", a)\n"
   ]
  },
  {
   "cell_type": "code",
   "execution_count": 16,
   "id": "ddd29dec-b8c3-4172-9e25-640130146e17",
   "metadata": {},
   "outputs": [
    {
     "name": "stdout",
     "output_type": "stream",
     "text": [
      "Array b: [0 2 4 6 8]\n"
     ]
    }
   ],
   "source": [
    "#evenly spaced array - use arange function and open brackets. no need of close brackets \n",
    "\n",
    "b=np.arange(0,10,2)\n",
    "\n",
    "print(\"Array b:\",b)"
   ]
  },
  {
   "cell_type": "code",
   "execution_count": 18,
   "id": "7ce9848a-9316-48a6-869c-cd92ea3f8b33",
   "metadata": {},
   "outputs": [
    {
     "name": "stdout",
     "output_type": "stream",
     "text": [
      "[ 0.          0.20408163  0.40816327  0.6122449   0.81632653  1.02040816\n",
      "  1.2244898   1.42857143  1.63265306  1.83673469  2.04081633  2.24489796\n",
      "  2.44897959  2.65306122  2.85714286  3.06122449  3.26530612  3.46938776\n",
      "  3.67346939  3.87755102  4.08163265  4.28571429  4.48979592  4.69387755\n",
      "  4.89795918  5.10204082  5.30612245  5.51020408  5.71428571  5.91836735\n",
      "  6.12244898  6.32653061  6.53061224  6.73469388  6.93877551  7.14285714\n",
      "  7.34693878  7.55102041  7.75510204  7.95918367  8.16326531  8.36734694\n",
      "  8.57142857  8.7755102   8.97959184  9.18367347  9.3877551   9.59183673\n",
      "  9.79591837 10.        ]\n"
     ]
    }
   ],
   "source": [
    "# Linearly spaced values refer to a sequence of numbers that are evenly distributed between a specified start and end point\n",
    "\n",
    "c=np.linspace(0,10)\n",
    "print(c)"
   ]
  },
  {
   "cell_type": "code",
   "execution_count": 20,
   "id": "a9fd6b80-677a-48a8-975d-0d1ea59655e5",
   "metadata": {},
   "outputs": [
    {
     "name": "stdout",
     "output_type": "stream",
     "text": [
      "[ 0.   2.5  5.   7.5 10. ]\n"
     ]
    }
   ],
   "source": [
    "# 5 values linspaced between 0 & 10\n",
    "c=np.linspace(0,10,5)\n",
    "print(c)"
   ]
  },
  {
   "cell_type": "code",
   "execution_count": 24,
   "id": "68eadeda-9cb9-474e-9479-ba5da6f6dd92",
   "metadata": {},
   "outputs": [
    {
     "name": "stdout",
     "output_type": "stream",
     "text": [
      "Array d: [[0. 0. 0.]\n",
      " [0. 0. 0.]]\n"
     ]
    }
   ],
   "source": [
    "# array with zeros \n",
    "\n",
    "d=np.zeros((2,3))   # 2 rows 3 columns array with zeros\n",
    "\n",
    "print(\"Array d:\",d)"
   ]
  },
  {
   "cell_type": "code",
   "execution_count": 26,
   "id": "88fd7b3c-0eac-45f7-af4c-8b6661567f62",
   "metadata": {},
   "outputs": [
    {
     "name": "stdout",
     "output_type": "stream",
     "text": [
      "[[1. 1. 1. 1.]\n",
      " [1. 1. 1. 1.]\n",
      " [1. 1. 1. 1.]]\n"
     ]
    }
   ],
   "source": [
    "# array of ones \n",
    "\n",
    "e=np.ones((3,4))\n",
    "print(e)"
   ]
  },
  {
   "cell_type": "code",
   "execution_count": 36,
   "id": "c120c4be-af46-4d4e-8993-a48b3118d9fc",
   "metadata": {},
   "outputs": [
    {
     "name": "stdout",
     "output_type": "stream",
     "text": [
      "[[1. 0. 0. 0. 0.]\n",
      " [0. 1. 0. 0. 0.]\n",
      " [0. 0. 1. 0. 0.]\n",
      " [0. 0. 0. 1. 0.]\n",
      " [0. 0. 0. 0. 1.]]\n",
      "('array g:', array([[1., 0., 0., 0., 0., 0.],\n",
      "       [0., 1., 0., 0., 0., 0.],\n",
      "       [0., 0., 1., 0., 0., 0.],\n",
      "       [0., 0., 0., 1., 0., 0.],\n",
      "       [0., 0., 0., 0., 1., 0.],\n",
      "       [0., 0., 0., 0., 0., 1.]]))\n"
     ]
    }
   ],
   "source": [
    "# An identity matrix is a special type of square matrix (same number of rows and columns) where:\n",
    "\n",
    "# All the diagonal elements (from top-left to bottom-right) are 1s.\n",
    "\n",
    "# All the off-diagonal elements are 0s.\n",
    "\n",
    "# we can use identity or eye \n",
    "\n",
    "f=np.identity((5))\n",
    "print(f)\n",
    "\n",
    "g=np.eye((6))\n",
    "print((\"array g:\", g))"
   ]
  },
  {
   "cell_type": "markdown",
   "id": "5315ed61-42d6-445c-9116-c43e98930902",
   "metadata": {},
   "source": [
    "# 2. Array Manipulation Functions"
   ]
  },
  {
   "cell_type": "code",
   "execution_count": 47,
   "id": "2ae64d28-c70e-4d44-9579-fb9bb0e14fa5",
   "metadata": {},
   "outputs": [
    {
     "name": "stdout",
     "output_type": "stream",
     "text": [
      "[[1]\n",
      " [2]\n",
      " [3]]\n"
     ]
    }
   ],
   "source": [
    "# Reshape an array \n",
    "\n",
    "a1=np.array([1,2,3])\n",
    "reshaped=np.reshape(a1,(3,1))\n",
    "print(reshaped)"
   ]
  },
  {
   "cell_type": "code",
   "execution_count": 51,
   "id": "5360fce3-c3d0-430b-aa3c-6adf992096ea",
   "metadata": {},
   "outputs": [
    {
     "name": "stdout",
     "output_type": "stream",
     "text": [
      "[1 2 3 4 5 6]\n"
     ]
    }
   ],
   "source": [
    "# Flatten an array - np.ravel \n",
    "\n",
    "#flatten means doing straight whole array\n",
    "\n",
    "data=np.array([[1,2,3],[4,5,6]])\n",
    "\n",
    "a1=np.ravel(data)\n",
    "\n",
    "print(a1)"
   ]
  },
  {
   "cell_type": "code",
   "execution_count": 53,
   "id": "7c259f5d-ceef-4d84-9359-bc3e6c9b1395",
   "metadata": {},
   "outputs": [
    {
     "name": "stdout",
     "output_type": "stream",
     "text": [
      "[[1 4]\n",
      " [2 5]\n",
      " [3 6]]\n"
     ]
    }
   ],
   "source": [
    "# Transposing an array means flipping it over its diagonal, turning its rows into columns and columns into rows.\n",
    "\n",
    "data=np.array([[1,2,3],[4,5,6]])\n",
    "\n",
    "b1=np.transpose(data)\n",
    "print(b1)"
   ]
  },
  {
   "cell_type": "markdown",
   "id": "3c070ef7-c25f-4128-b0b1-61b14055e9e2",
   "metadata": {},
   "source": [
    "# 3. Mathematical Functions"
   ]
  },
  {
   "cell_type": "code",
   "execution_count": 56,
   "id": "e51cd094-7f6d-4fac-aba4-e6f35533470e",
   "metadata": {},
   "outputs": [
    {
     "name": "stdout",
     "output_type": "stream",
     "text": [
      "[3 4 5 6]\n"
     ]
    }
   ],
   "source": [
    "# add two arrays \n",
    "\n",
    "a=np.array([1,2,3,4,])\n",
    "\n",
    "added=np.add(a,2) # add 2 to each value \n",
    "\n",
    "print(added)"
   ]
  },
  {
   "cell_type": "code",
   "execution_count": 60,
   "id": "8f090d01-7f82-4c34-a38f-6a2838d94aa9",
   "metadata": {},
   "outputs": [
    {
     "name": "stdout",
     "output_type": "stream",
     "text": [
      "[ 64 125 216 343]\n",
      "[16 25 36 49]\n"
     ]
    }
   ],
   "source": [
    "# squre each element\n",
    "\n",
    "b=np.array([4,5,6,7])\n",
    "\n",
    "square=np.power(b,2)\n",
    "\n",
    "cube=np.power(b,3)\n",
    "\n",
    "print(cube)\n",
    "print(square)"
   ]
  },
  {
   "cell_type": "code",
   "execution_count": 62,
   "id": "81e42dcd-aafd-458a-9810-854f23de0355",
   "metadata": {},
   "outputs": [
    {
     "name": "stdout",
     "output_type": "stream",
     "text": [
      "[2.         2.23606798 2.44948974 2.64575131]\n"
     ]
    }
   ],
   "source": [
    "# square root of each element \n",
    "\n",
    "a=np.array([4,5,6,7])\n",
    "\n",
    "c=np.sqrt(a)\n",
    "\n",
    "print(c)"
   ]
  },
  {
   "cell_type": "code",
   "execution_count": 64,
   "id": "de25f9ee-7cab-4828-92b3-c3bae15b78fc",
   "metadata": {},
   "outputs": [
    {
     "name": "stdout",
     "output_type": "stream",
     "text": [
      "32\n"
     ]
    }
   ],
   "source": [
    "# dot product means multiplication and addition of values of same shaped arrays - np.dot\n",
    "\n",
    "a=np.array([1,2,3])\n",
    "b=np.array([4,5,6])\n",
    "\n",
    "c=np.dot(a,b) - # 4+10+18\n",
    "\n",
    "print(c)\n"
   ]
  },
  {
   "cell_type": "markdown",
   "id": "d3270443-cb94-4f07-9197-add4945b0b7a",
   "metadata": {},
   "source": [
    "# 4. Statistical Functions"
   ]
  },
  {
   "cell_type": "code",
   "execution_count": 67,
   "id": "a7adee7e-6c29-4827-8bd1-1db3b69d8f73",
   "metadata": {},
   "outputs": [
    {
     "name": "stdout",
     "output_type": "stream",
     "text": [
      "2.5\n"
     ]
    }
   ],
   "source": [
    "# mean of an array - np.mean\n",
    "\n",
    "a=np.array([1,2,3,4])\n",
    "mean=np.mean(a)\n",
    "\n",
    "print(mean)"
   ]
  },
  {
   "cell_type": "code",
   "execution_count": 69,
   "id": "390a9a8c-f28f-4052-b0b4-5493fa182fae",
   "metadata": {},
   "outputs": [
    {
     "name": "stdout",
     "output_type": "stream",
     "text": [
      "1.118033988749895\n"
     ]
    }
   ],
   "source": [
    "# standard deviation of an array - np.std\n",
    "\n",
    "b=np.array([4,5,6,7])\n",
    "SD=np.std(b)\n",
    "\n",
    "print(SD)"
   ]
  },
  {
   "cell_type": "code",
   "execution_count": null,
   "id": "3b46273c-6cb5-47cb-b119-3ee695bde647",
   "metadata": {},
   "outputs": [],
   "source": [
    "# Standard deviation is used because it tells you how spread out or clustered your data values are around \n",
    "# the mean (average). It’s one of the most important tools in statistics, data analysis, and research for\n",
    "# understanding the variability in a dataset.\n",
    "\n",
    "# A low standard deviation means data points are close to the mean → more consistent.\n",
    "\n",
    "# A high standard deviation means data points are spread out → more variation.\n",
    "\n",
    "# A low standard deviation means data points are close to the mean → more consistent.\n",
    "\n",
    "# A high standard deviation means data points are spread out → more variation.\n",
    "\n",
    "# 2. Easy Comparison Between Datasets\n",
    "# You can compare how much variation exists in two or more datasets.\n",
    "\n",
    "# Example: Compare exam scores of two classes. If both have the same average but one has a higher standard deviation,\n",
    "# its scores are more spread out (less consistent).\n"
   ]
  },
  {
   "cell_type": "code",
   "execution_count": 71,
   "id": "349cecc8-77e7-40f9-a29c-97b0401114bd",
   "metadata": {},
   "outputs": [
    {
     "name": "stdout",
     "output_type": "stream",
     "text": [
      "4\n"
     ]
    }
   ],
   "source": [
    "b=np.array([4,5,6,7])\n",
    "arr1=np.min(b)\n",
    "\n",
    "print(arr1)"
   ]
  },
  {
   "cell_type": "code",
   "execution_count": 73,
   "id": "8cf0fdde-3e9b-4b4c-b659-3037ea539ddb",
   "metadata": {},
   "outputs": [
    {
     "name": "stdout",
     "output_type": "stream",
     "text": [
      "7\n"
     ]
    }
   ],
   "source": [
    "b=np.array([4,5,6,7])\n",
    "c=np.max(b)\n",
    "print(c)"
   ]
  },
  {
   "cell_type": "markdown",
   "id": "2b8b15f1-6afb-4d07-8914-e8bee5bc5e9f",
   "metadata": {},
   "source": [
    "## 5. Linear Algebra Functions"
   ]
  },
  {
   "cell_type": "code",
   "execution_count": null,
   "id": "08cfb7d1-fab7-4efc-b66f-83772ef66833",
   "metadata": {},
   "outputs": [],
   "source": [
    "# In Python, the determinant of a matrix is a scalar value that gives important information about the matrix.\n",
    "\n",
    "# determinant - np.linlag.det\n",
    "# INVERSE - np.linlag.inv\n",
    "\n",
    "# Tells you if the matrix is invertible:\n",
    "\n",
    "# If det(A) ≠ 0, the matrix has an inverse.\n",
    "\n",
    "# If det(A) = 0, the matrix is singular (non-invertible)."
   ]
  },
  {
   "cell_type": "code",
   "execution_count": 86,
   "id": "c1f359d8-2666-49a7-9513-97dc0f212031",
   "metadata": {},
   "outputs": [
    {
     "name": "stdout",
     "output_type": "stream",
     "text": [
      "-2.9999999999999996\n",
      "[[-1.66666667  0.66666667]\n",
      " [ 1.33333333 -0.33333333]]\n"
     ]
    }
   ],
   "source": [
    "data=np.array([[1,2],[4,5]])\n",
    "\n",
    "a=np.linalg.det(data)\n",
    "b=np.linalg.inv(data)\n",
    "\n",
    "print(a)\n",
    "print(b)\n"
   ]
  },
  {
   "cell_type": "markdown",
   "id": "7f598939-8f8e-4cec-96ad-aecf8359140a",
   "metadata": {},
   "source": [
    "## 6. Random Sampling Functions "
   ]
  },
  {
   "cell_type": "code",
   "execution_count": 95,
   "id": "de1a6ad0-cefc-4fc7-82cb-42cf7ff902b2",
   "metadata": {},
   "outputs": [
    {
     "name": "stdout",
     "output_type": "stream",
     "text": [
      "[0.16391469 0.30329175 0.77503861]\n"
     ]
    }
   ],
   "source": [
    "# 3 random values between 0 to 1\n",
    "\n",
    "a=np.random.rand(3)\n",
    "\n",
    "print(a)"
   ]
  },
  {
   "cell_type": "code",
   "execution_count": 97,
   "id": "474d6e09-a27c-4b5f-b3ac-84b52af3b99e",
   "metadata": {},
   "outputs": [
    {
     "name": "stdout",
     "output_type": "stream",
     "text": [
      "[8 9]\n"
     ]
    }
   ],
   "source": [
    "b=np.random.randint(0,10,2) # size of 2 \n",
    "\n",
    "print(b)"
   ]
  },
  {
   "cell_type": "code",
   "execution_count": 103,
   "id": "3f72206c-3e53-4a18-a00c-5a5931df959a",
   "metadata": {},
   "outputs": [
    {
     "name": "stdout",
     "output_type": "stream",
     "text": [
      "82\n"
     ]
    }
   ],
   "source": [
    "# seed refers to setting the starting point for generating random numbers. \n",
    "# This is important for creating repeatable (reproducible) results when using \n",
    "#functions from the random module or numpy.random.\n",
    "\n",
    "\n",
    "\n",
    "\n",
    "import random\n",
    "\n",
    "random.seed(42)   # Set the seed\n",
    "\n",
    "print(random.randint(1, 100))"
   ]
  },
  {
   "cell_type": "code",
   "execution_count": 105,
   "id": "15cc3e0c-ff7c-4ce0-a55c-8b81cc86d559",
   "metadata": {},
   "outputs": [
    {
     "name": "stdout",
     "output_type": "stream",
     "text": [
      "[0 2 4 6 8]\n"
     ]
    }
   ],
   "source": [
    "a=np.arange(0,10,2)\n",
    "\n",
    "print(a)"
   ]
  },
  {
   "cell_type": "markdown",
   "id": "f32d69d7-78af-4023-8489-1934c9a6e3cf",
   "metadata": {},
   "source": [
    "#   7. Boolean & Logical Functions"
   ]
  },
  {
   "cell_type": "code",
   "execution_count": 108,
   "id": "797c08de-d83d-4abe-bf56-45c5d80ad46a",
   "metadata": {},
   "outputs": [
    {
     "name": "stdout",
     "output_type": "stream",
     "text": [
      "False\n"
     ]
    }
   ],
   "source": [
    "# # Check if all elements are True  - np.all\n",
    "\n",
    "a=np.array([True,False,True])\n",
    "\n",
    "b=np.all(a)\n",
    "\n",
    "print(b)"
   ]
  },
  {
   "cell_type": "code",
   "execution_count": 110,
   "id": "0cb0d74f-b477-445b-8b21-6fdbd7833270",
   "metadata": {},
   "outputs": [
    {
     "name": "stdout",
     "output_type": "stream",
     "text": [
      "True\n"
     ]
    }
   ],
   "source": [
    "# check if all elements are true \n",
    "\n",
    "a=np.array([True,True,True])\n",
    "\n",
    "b=np.all(a)\n",
    "\n",
    "print(b)"
   ]
  },
  {
   "cell_type": "code",
   "execution_count": 112,
   "id": "b26eba8f-58b0-4cce-a9fe-b0c04bb2d260",
   "metadata": {},
   "outputs": [
    {
     "name": "stdout",
     "output_type": "stream",
     "text": [
      "False\n"
     ]
    }
   ],
   "source": [
    "# check if any are true - np.any \n",
    "\n",
    "a=np.array([True,False,False])\n",
    "\n",
    "b=np.all(a)\n",
    "\n",
    "print(b)"
   ]
  },
  {
   "cell_type": "markdown",
   "id": "9e08d84a-b041-4439-87b1-7832458afc83",
   "metadata": {},
   "source": [
    "# 8. Set Operations"
   ]
  },
  {
   "cell_type": "code",
   "execution_count": 117,
   "id": "464eb93f-5d15-4f51-8d0c-8df3c0f8232d",
   "metadata": {},
   "outputs": [
    {
     "name": "stdout",
     "output_type": "stream",
     "text": [
      "[4]\n",
      "[1 2 3 4 5 6]\n"
     ]
    }
   ],
   "source": [
    "# Intersection of two arrays - np.intersect1d\n",
    "# union - np.union1d\n",
    "\n",
    "a=np.array([1,2,3,4])\n",
    "b=np.array([4,5,6])\n",
    "\n",
    "c=np.intersect1d(a,b)\n",
    "print(c)\n",
    "\n",
    "d=np.union1d(a,b)\n",
    "print(d)"
   ]
  },
  {
   "cell_type": "markdown",
   "id": "3a0b10b1-a534-44ec-b5c4-999ee88d3af5",
   "metadata": {},
   "source": [
    "# 9. Array Attribute Functions"
   ]
  },
  {
   "cell_type": "code",
   "execution_count": 128,
   "id": "55e744e0-3110-4fc5-adac-b978a5cbaa6d",
   "metadata": {},
   "outputs": [
    {
     "name": "stdout",
     "output_type": "stream",
     "text": [
      "1\n",
      "(3,)\n",
      "3\n",
      "int64\n"
     ]
    }
   ],
   "source": [
    "a=np.array([1,2,3])\n",
    "\n",
    "b=a.shape\n",
    "c=a.size\n",
    "d=a.ndim\n",
    "e=a.dtype\n",
    "\n",
    "print(d)\n",
    "print(b)\n",
    "print(c)\n",
    "print(e)"
   ]
  },
  {
   "cell_type": "markdown",
   "id": "c0c32b7e-3b99-4826-a863-ab816b944a1d",
   "metadata": {},
   "source": [
    "# 10. Other Functions"
   ]
  },
  {
   "cell_type": "code",
   "execution_count": 133,
   "id": "60afd37d-d477-4131-b79d-9ca2a0e33738",
   "metadata": {},
   "outputs": [
    {
     "name": "stdout",
     "output_type": "stream",
     "text": [
      "[1 2 3]\n"
     ]
    }
   ],
   "source": [
    "a=np.array([1,2,3])\n",
    "\n",
    "b=np.copy(a)\n",
    "\n",
    "print(b)\n"
   ]
  },
  {
   "cell_type": "code",
   "execution_count": 135,
   "id": "725a8584-a6fa-4789-8853-7e38932f1981",
   "metadata": {},
   "outputs": [
    {
     "name": "stdout",
     "output_type": "stream",
     "text": [
      "24\n"
     ]
    }
   ],
   "source": [
    "a=np.array([1,2,3])   #size in bytes \n",
    "\n",
    "b=a.nbytes\n",
    "\n",
    "print(b)"
   ]
  },
  {
   "cell_type": "code",
   "execution_count": 139,
   "id": "f2b5640a-299a-496b-95c2-61b12edf6808",
   "metadata": {},
   "outputs": [
    {
     "name": "stdout",
     "output_type": "stream",
     "text": [
      "False\n"
     ]
    }
   ],
   "source": [
    "a=np.array([1,2,3])  \n",
    "\n",
    "c=np.shares_memory(a,b)\n",
    "\n",
    "print(c)"
   ]
  },
  {
   "cell_type": "code",
   "execution_count": null,
   "id": "b13e39f1-03b2-4a17-98d3-98c48e8e94c5",
   "metadata": {},
   "outputs": [],
   "source": []
  },
  {
   "cell_type": "code",
   "execution_count": null,
   "id": "15d871b7-d4c9-424c-9187-5f8ab5a23f6b",
   "metadata": {},
   "outputs": [],
   "source": []
  },
  {
   "cell_type": "code",
   "execution_count": null,
   "id": "643bb9b1-8a2a-4cb0-a942-71685f89ea58",
   "metadata": {},
   "outputs": [],
   "source": []
  },
  {
   "cell_type": "code",
   "execution_count": null,
   "id": "a77c337e-8809-40cc-a182-659477f7a6af",
   "metadata": {},
   "outputs": [],
   "source": []
  },
  {
   "cell_type": "code",
   "execution_count": null,
   "id": "077e567e-eb90-45ce-8fde-21e225186658",
   "metadata": {},
   "outputs": [],
   "source": []
  },
  {
   "cell_type": "code",
   "execution_count": null,
   "id": "636868d7-5d1f-4dcb-a89f-04a45a24a94e",
   "metadata": {},
   "outputs": [],
   "source": []
  },
  {
   "cell_type": "code",
   "execution_count": null,
   "id": "92a3efa8-68df-427c-aead-5db4ac7cc242",
   "metadata": {},
   "outputs": [],
   "source": []
  },
  {
   "cell_type": "code",
   "execution_count": null,
   "id": "5ac13cfd-3844-4827-a9d6-80d14d799ef1",
   "metadata": {},
   "outputs": [],
   "source": []
  },
  {
   "cell_type": "code",
   "execution_count": null,
   "id": "c23aa14c-1819-4370-8dc7-ce4d21f76fdb",
   "metadata": {},
   "outputs": [],
   "source": []
  }
 ],
 "metadata": {
  "kernelspec": {
   "display_name": "Python [conda env:base] *",
   "language": "python",
   "name": "conda-base-py"
  },
  "language_info": {
   "codemirror_mode": {
    "name": "ipython",
    "version": 3
   },
   "file_extension": ".py",
   "mimetype": "text/x-python",
   "name": "python",
   "nbconvert_exporter": "python",
   "pygments_lexer": "ipython3",
   "version": "3.12.7"
  }
 },
 "nbformat": 4,
 "nbformat_minor": 5
}
